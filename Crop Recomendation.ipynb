{
 "cells": [
  {
   "cell_type": "code",
   "execution_count": 1,
   "id": "3c70f5bd-8a9e-4ccc-b955-20d517c40a5b",
   "metadata": {},
   "outputs": [],
   "source": [
    "# for manipulation\n",
    "import pandas as pd\n",
    "import numpy as np\n",
    "\n",
    "# for data visualization\n",
    "import matplotlib.pyplot as plt\n",
    "import seaborn as sns\n",
    "\n",
    "# for interactivity\n",
    "from ipywidgets import interact "
   ]
  },
  {
   "cell_type": "code",
   "execution_count": 12,
   "id": "dbac0286-4887-4a10-916d-e1cddb4881b0",
   "metadata": {},
   "outputs": [],
   "source": [
    "# lets read the dataset\n",
    "data = pd.read_csv('Crop_recommendation.csv')"
   ]
  },
  {
   "cell_type": "code",
   "execution_count": 14,
   "id": "d9facfa3-4b9e-41cc-807c-a82bd961b11e",
   "metadata": {},
   "outputs": [
    {
     "name": "stdout",
     "output_type": "stream",
     "text": [
      "Shape of dataset : (2200, 8)\n"
     ]
    }
   ],
   "source": [
    "# lets check the shape of the dataset\n",
    "print('Shape of dataset :', data.shape )"
   ]
  },
  {
   "cell_type": "code",
   "execution_count": 16,
   "id": "3b065e5c-8c61-4e06-93b0-0b58e51b9d61",
   "metadata": {},
   "outputs": [
    {
     "data": {
      "text/html": [
       "<div>\n",
       "<style scoped>\n",
       "    .dataframe tbody tr th:only-of-type {\n",
       "        vertical-align: middle;\n",
       "    }\n",
       "\n",
       "    .dataframe tbody tr th {\n",
       "        vertical-align: top;\n",
       "    }\n",
       "\n",
       "    .dataframe thead th {\n",
       "        text-align: right;\n",
       "    }\n",
       "</style>\n",
       "<table border=\"1\" class=\"dataframe\">\n",
       "  <thead>\n",
       "    <tr style=\"text-align: right;\">\n",
       "      <th></th>\n",
       "      <th>N</th>\n",
       "      <th>P</th>\n",
       "      <th>K</th>\n",
       "      <th>temperature</th>\n",
       "      <th>humidity</th>\n",
       "      <th>ph</th>\n",
       "      <th>rainfall</th>\n",
       "      <th>label</th>\n",
       "    </tr>\n",
       "  </thead>\n",
       "  <tbody>\n",
       "    <tr>\n",
       "      <th>0</th>\n",
       "      <td>90</td>\n",
       "      <td>42</td>\n",
       "      <td>43</td>\n",
       "      <td>20.879744</td>\n",
       "      <td>82.002744</td>\n",
       "      <td>6.502985</td>\n",
       "      <td>202.935536</td>\n",
       "      <td>rice</td>\n",
       "    </tr>\n",
       "    <tr>\n",
       "      <th>1</th>\n",
       "      <td>85</td>\n",
       "      <td>58</td>\n",
       "      <td>41</td>\n",
       "      <td>21.770462</td>\n",
       "      <td>80.319644</td>\n",
       "      <td>7.038096</td>\n",
       "      <td>226.655537</td>\n",
       "      <td>rice</td>\n",
       "    </tr>\n",
       "    <tr>\n",
       "      <th>2</th>\n",
       "      <td>60</td>\n",
       "      <td>55</td>\n",
       "      <td>44</td>\n",
       "      <td>23.004459</td>\n",
       "      <td>82.320763</td>\n",
       "      <td>7.840207</td>\n",
       "      <td>263.964248</td>\n",
       "      <td>rice</td>\n",
       "    </tr>\n",
       "    <tr>\n",
       "      <th>3</th>\n",
       "      <td>74</td>\n",
       "      <td>35</td>\n",
       "      <td>40</td>\n",
       "      <td>26.491096</td>\n",
       "      <td>80.158363</td>\n",
       "      <td>6.980401</td>\n",
       "      <td>242.864034</td>\n",
       "      <td>rice</td>\n",
       "    </tr>\n",
       "    <tr>\n",
       "      <th>4</th>\n",
       "      <td>78</td>\n",
       "      <td>42</td>\n",
       "      <td>42</td>\n",
       "      <td>20.130175</td>\n",
       "      <td>81.604873</td>\n",
       "      <td>7.628473</td>\n",
       "      <td>262.717340</td>\n",
       "      <td>rice</td>\n",
       "    </tr>\n",
       "  </tbody>\n",
       "</table>\n",
       "</div>"
      ],
      "text/plain": [
       "    N   P   K  temperature   humidity        ph    rainfall label\n",
       "0  90  42  43    20.879744  82.002744  6.502985  202.935536  rice\n",
       "1  85  58  41    21.770462  80.319644  7.038096  226.655537  rice\n",
       "2  60  55  44    23.004459  82.320763  7.840207  263.964248  rice\n",
       "3  74  35  40    26.491096  80.158363  6.980401  242.864034  rice\n",
       "4  78  42  42    20.130175  81.604873  7.628473  262.717340  rice"
      ]
     },
     "execution_count": 16,
     "metadata": {},
     "output_type": "execute_result"
    }
   ],
   "source": [
    "# Lets check the head of the dataset\n",
    "data.head()"
   ]
  },
  {
   "cell_type": "code",
   "execution_count": 18,
   "id": "cf73c120-902c-4b10-a7cb-f1ad17b9bfb2",
   "metadata": {},
   "outputs": [
    {
     "data": {
      "text/plain": [
       "N              0\n",
       "P              0\n",
       "K              0\n",
       "temperature    0\n",
       "humidity       0\n",
       "ph             0\n",
       "rainfall       0\n",
       "label          0\n",
       "dtype: int64"
      ]
     },
     "execution_count": 18,
     "metadata": {},
     "output_type": "execute_result"
    }
   ],
   "source": [
    "data.isnull().sum()"
   ]
  },
  {
   "cell_type": "code",
   "execution_count": 20,
   "id": "9bba3d3d-c9cf-423c-b480-abce58860159",
   "metadata": {},
   "outputs": [
    {
     "data": {
      "text/plain": [
       "label\n",
       "rice           100\n",
       "maize          100\n",
       "jute           100\n",
       "cotton         100\n",
       "coconut        100\n",
       "papaya         100\n",
       "orange         100\n",
       "apple          100\n",
       "muskmelon      100\n",
       "watermelon     100\n",
       "grapes         100\n",
       "mango          100\n",
       "banana         100\n",
       "pomegranate    100\n",
       "lentil         100\n",
       "blackgram      100\n",
       "mungbean       100\n",
       "mothbeans      100\n",
       "pigeonpeas     100\n",
       "kidneybeans    100\n",
       "chickpea       100\n",
       "coffee         100\n",
       "Name: count, dtype: int64"
      ]
     },
     "execution_count": 20,
     "metadata": {},
     "output_type": "execute_result"
    }
   ],
   "source": [
    "# check the crops present in the dataset \n",
    "data['label'].value_counts()"
   ]
  },
  {
   "cell_type": "code",
   "execution_count": 29,
   "id": "f13107d0-a5f9-4434-84bf-1da19d0c9f80",
   "metadata": {},
   "outputs": [
    {
     "name": "stdout",
     "output_type": "stream",
     "text": [
      "------------------------------------------------\n",
      "Average Of Nitrogen in the soil : 50.551818\n",
      "Average Of Phosporous in the soil :53.362727\n",
      "Average Of Potassium in the soil :48.149091\n",
      "Average Of Temperature in celsius :25.616244\n",
      "Average Of Humidity in % :71.481779\n",
      "Average Of pH value of soil:6.469480\n",
      "Average Of Rainfall in mm :103.463655\n",
      "------------------------------------------------\n"
     ]
    }
   ],
   "source": [
    "print('------------------------------------------------')\n",
    "print(\"Average Of Nitrogen in the soil : {0:2f}\".format(data['N'].mean()))\n",
    "print(\"Average Of Phosporous in the soil :{0:2f}\".format(data['P'].mean()))\n",
    "print(\"Average Of Potassium in the soil :{0:2f}\".format(data['K'].mean()))\n",
    "print(\"Average Of Temperature in celsius :{0:2f}\".format(data['temperature'].mean()))\n",
    "print(\"Average Of Humidity in % :{0:2f}\".format(data['humidity'].mean()))\n",
    "print(\"Average Of pH value of soil:{0:2f}\".format(data['ph'].mean()))\n",
    "print(\"Average Of Rainfall in mm :{0:2f}\".format(data['rainfall'].mean()))\n",
    "print('------------------------------------------------')"
   ]
  },
  {
   "cell_type": "code",
   "execution_count": 32,
   "id": "2c038346-18d7-4130-8dfe-9693706d6f53",
   "metadata": {},
   "outputs": [
    {
     "data": {
      "application/vnd.jupyter.widget-view+json": {
       "model_id": "4a737a87737946c39ac20ad2759a6712",
       "version_major": 2,
       "version_minor": 0
      },
      "text/plain": [
       "interactive(children=(Dropdown(description='Crops', options=('rice', 'maize', 'jute', 'cotton', 'coconut', 'pa…"
      ]
     },
     "metadata": {},
     "output_type": "display_data"
    }
   ],
   "source": [
    "#lets check the summary statistics for each crop\n",
    "@interact\n",
    "def summary(Crops = list(data['label'].value_counts().index)):\n",
    "    x = data[data['label'] == Crops]\n",
    "    print(\"----------------------------------\")\n",
    "    print(\"Statistics of Nitrogen\")\n",
    "    print(\"Minimum Nitrogen required: \",x['N'].min())\n",
    "    print(\"Average Nitrogen required: \",x['N'].mean())\n",
    "    print(\"Maxmum Nitrogen required: \",x['N'].max())\n",
    "    print(\"----------------------------------\")\n",
    "    print(\"Statistics of Phosporous\")\n",
    "    print(\"Minimum Phosporous required: \",x['P'].min())\n",
    "    print(\"Average Phosporous required: \",x['P'].mean())\n",
    "    print(\"Maxmum Phosporous required: \",x['P'].max())\n",
    "    print(\"----------------------------------\")\n",
    "    print(\"Statistics of Potassium\")\n",
    "    print(\"Minimum Potassium required: \",x['K'].min())\n",
    "    print(\"Average Potassium required: \",x['K'].mean())\n",
    "    print(\"Maxmum Potassium required: \",x['K'].max())\n",
    "    print(\"----------------------------------\")\n",
    "    print(\"Statistics of Temperature\")\n",
    "    print(\"Minimum Temperature required: \",x['temperature'].min())\n",
    "    print(\"Average Temperature required: \",x['temperature'].mean())\n",
    "    print(\"Maxmum Temperature required: \",x['temperature'].max())\n",
    "    print(\"----------------------------------\")\n",
    "    print(\"Statistics of Humidity\")\n",
    "    print(\"Minimum Humidity required: \",x['humidity'].min())\n",
    "    print(\"Average Humidity required: \",x['humidity'].mean())\n",
    "    print(\"Maxmum Humidity required: \",x['humidity'].max())\n",
    "    print(\"----------------------------------\")\n",
    "    print(\"Statistics of pH value of soil \")\n",
    "    print(\"Minimum pH value required: \",x['ph'].min())\n",
    "    print(\"Average pH value required: \",x['ph'].mean())\n",
    "    print(\"Maxmum pH value required: \",x['ph'].max())\n",
    "    print(\"----------------------------------\")\n",
    "    print(\"Statistics of Rainfall\")\n",
    "    print(\"Minimum Rainfall required: \",x['rainfall'].min())\n",
    "    print(\"Average Rainfall required: \",x['rainfall'].mean())\n",
    "    print(\"Maxmum Rainfall required: \",x['rainfall'].max())\n",
    "    print(\"----------------------------------\")"
   ]
  },
  {
   "cell_type": "code",
   "execution_count": 40,
   "id": "af8ba8ec-2f0e-40c4-aefa-fa8d4a6638f4",
   "metadata": {},
   "outputs": [
    {
     "data": {
      "application/vnd.jupyter.widget-view+json": {
       "model_id": "9add82d37bfa46119a1865251e87d3f9",
       "version_major": 2,
       "version_minor": 0
      },
      "text/plain": [
       "interactive(children=(Dropdown(description='Conditions', options=('N', 'P', 'K', 'temperature', 'ph', 'humidit…"
      ]
     },
     "metadata": {},
     "output_type": "display_data"
    }
   ],
   "source": [
    "#lets\n",
    "@interact\n",
    "def compare(Conditions = ['N','P','K','temperature','ph','humidity','rainfall']):\n",
    "    print(\"Average value for\", Conditions,\"is {0:2f}\".format(data[Conditions].mean()))\n",
    "    print(\"-------------------------------------------------------------------------\")\n",
    "    print(\"Rice : {0:2f}\".format(data[data['label'] == 'rice'][Conditions].mean()))\n",
    "    print(\"Black Grams : {0:2f}\".format(data[data['label'] == 'blackgram'][Conditions].mean()))"
   ]
  },
  {
   "cell_type": "code",
   "execution_count": 50,
   "id": "c2214992-9c43-49fa-b26e-2ce16a741ea9",
   "metadata": {},
   "outputs": [
    {
     "data": {
      "application/vnd.jupyter.widget-view+json": {
       "model_id": "2baf11de48d04d8195c967827975684d",
       "version_major": 2,
       "version_minor": 0
      },
      "text/plain": [
       "interactive(children=(Dropdown(description='Conditions', options=('N', 'P', 'K', 'temperature', 'ph', 'humidit…"
      ]
     },
     "metadata": {},
     "output_type": "display_data"
    }
   ],
   "source": [
    "#\n",
    "@interact\n",
    "def comapare(Conditions = ['N','P','K','temperature','ph','humidity','rainfall']):\n",
    "    print(\"Crops which required greater than average\", Conditions , \"\\n\")\n",
    "    print(data[data[Conditions] > data[Conditions].mean()]['label'].unique())\n",
    "    print(\"------------------------------------------------------------------------------\")\n",
    "    print(\"Crops which required less than average\", Conditions , \"\\n\")\n",
    "    print(data[data[Conditions] <= data[Conditions].mean()]['label'].unique())"
   ]
  },
  {
   "cell_type": "code",
   "execution_count": null,
   "id": "baea2f93-8809-4018-bfcb-62dc4a12a01e",
   "metadata": {},
   "outputs": [],
   "source": [
    "#distribution charts using seaborn lib"
   ]
  }
 ],
 "metadata": {
  "kernelspec": {
   "display_name": "Python 3 (ipykernel)",
   "language": "python",
   "name": "python3"
  },
  "language_info": {
   "codemirror_mode": {
    "name": "ipython",
    "version": 3
   },
   "file_extension": ".py",
   "mimetype": "text/x-python",
   "name": "python",
   "nbconvert_exporter": "python",
   "pygments_lexer": "ipython3",
   "version": "3.11.4"
  }
 },
 "nbformat": 4,
 "nbformat_minor": 5
}
